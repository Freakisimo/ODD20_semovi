{
  "nbformat": 4,
  "nbformat_minor": 0,
  "metadata": {
    "colab": {
      "name": "read_from_web.ipynb",
      "provenance": [],
      "collapsed_sections": [],
      "authorship_tag": "ABX9TyPDGxOi6014f7YUen/ma7nA",
      "include_colab_link": true
    },
    "kernelspec": {
      "name": "python3",
      "display_name": "Python 3"
    },
    "language_info": {
      "name": "python"
    }
  },
  "cells": [
    {
      "cell_type": "markdown",
      "metadata": {
        "id": "view-in-github",
        "colab_type": "text"
      },
      "source": [
        "<a href=\"https://colab.research.google.com/github/Dante7/ODD20_semovi/blob/master/read_from_web.ipynb\" target=\"_parent\"><img src=\"https://colab.research.google.com/assets/colab-badge.svg\" alt=\"Open In Colab\"/></a>"
      ]
    },
    {
      "cell_type": "markdown",
      "source": [
        "## Instalación de dependencias\n",
        "\n",
        "En este caso vamos a usar geopandas para poder cargar los archivos con formato *.shp*"
      ],
      "metadata": {
        "id": "M84p6vf_ruNS"
      }
    },
    {
      "cell_type": "code",
      "source": [
        "!pip install geopandas --quiet\n",
        "!pip install shapely --quiet"
      ],
      "metadata": {
        "id": "CQqpQRdf7gws",
        "colab": {
          "base_uri": "https://localhost:8080/"
        },
        "outputId": "320f2769-aea4-49ed-b564-204c28602297"
      },
      "execution_count": 1,
      "outputs": [
        {
          "output_type": "stream",
          "name": "stdout",
          "text": [
            "\u001b[K     |████████████████████████████████| 1.0 MB 5.0 MB/s \n",
            "\u001b[K     |████████████████████████████████| 6.3 MB 48.1 MB/s \n",
            "\u001b[K     |████████████████████████████████| 16.7 MB 183 kB/s \n",
            "\u001b[?25h"
          ]
        }
      ]
    },
    {
      "cell_type": "markdown",
      "source": [
        "## Importación de dependencias\n",
        "\n",
        "Para este caso usaremos las librerias para hacer el request a las paginas necesarias, montar el almacenamiento en drive, crear el dataset y modificar las carpetas del drive"
      ],
      "metadata": {
        "id": "N-jmy1s0sAIJ"
      }
    },
    {
      "cell_type": "code",
      "execution_count": 2,
      "metadata": {
        "id": "PZPulzvDrS5r"
      },
      "outputs": [],
      "source": [
        "from bs4 import BeautifulSoup\n",
        "from google.colab import drive\n",
        "from zipfile import ZipFile\n",
        "from shapely.geometry import Point, LineString\n",
        "\n",
        "import geopandas as gpd\n",
        "import json\n",
        "import os\n",
        "import pandas as pd\n",
        "import multiprocessing as mp\n",
        "import requests"
      ]
    },
    {
      "cell_type": "code",
      "source": [
        "from firebase_admin import initialize_app, delete_app, get_app\n",
        "from firebase_admin import credentials\n",
        "from firebase_admin import firestore"
      ],
      "metadata": {
        "id": "MXq_v-hwGzm9"
      },
      "execution_count": 3,
      "outputs": []
    },
    {
      "cell_type": "code",
      "source": [
        "from google.colab import output\n",
        "output.enable_custom_widget_manager()"
      ],
      "metadata": {
        "id": "AeDeHpdeNswU"
      },
      "execution_count": 4,
      "outputs": []
    },
    {
      "cell_type": "markdown",
      "source": [
        "## Definición de funciones adicionales\n"
      ],
      "metadata": {
        "id": "M8boJd0zzgl-"
      }
    },
    {
      "cell_type": "code",
      "source": [
        "def get_links(url, label, css_class=None):\n",
        "  page = requests.get(url)\n",
        "  soup = BeautifulSoup(page.content, 'html.parser')\n",
        "  css_condition = {\"class\": css_class} if css_class else {}\n",
        "  return [a['href'] for a in soup.find_all(label, css_condition)]\n",
        "\n",
        "def save_files(links, path):\n",
        "  if not os.path.exists(path):\n",
        "    os.mkdir(path)\n",
        "  for link in links:\n",
        "    file = requests.get(link, stream = True)\n",
        "    file_name = link.rsplit('/', 1)[-1]\n",
        "    \n",
        "    with open(path + file_name,\"wb\") as shp:\n",
        "        for chunk in file.iter_content(chunk_size=1024):  \n",
        "          if chunk:\n",
        "              shp.write(chunk)\n",
        "\n",
        "def delete_collection(coll_ref):\n",
        "    docs = coll_ref.stream()\n",
        "\n",
        "    for doc in docs:\n",
        "        print(f'Deleting doc {doc.id} => {doc.to_dict()}')\n",
        "        doc.reference.delete()\n"
      ],
      "metadata": {
        "id": "PD5V_wjAuOk-"
      },
      "execution_count": 5,
      "outputs": []
    },
    {
      "cell_type": "markdown",
      "source": [
        "## Definición de almacenamiento\n",
        "\n",
        "Montado de la carpeta de drive de google y definición de los paths de almacenamiento"
      ],
      "metadata": {
        "id": "rV9zK6GvsYGN"
      }
    },
    {
      "cell_type": "code",
      "source": [
        "drive.mount('/gdrive')\n",
        "root_path = '/gdrive/My Drive/datasets/'\n",
        "path = root_path + 'cetram/'"
      ],
      "metadata": {
        "colab": {
          "base_uri": "https://localhost:8080/"
        },
        "id": "u9SQr3bgrV37",
        "outputId": "35a921ff-d779-4e0c-979e-ae7bc343819d"
      },
      "execution_count": 6,
      "outputs": [
        {
          "output_type": "stream",
          "name": "stdout",
          "text": [
            "Mounted at /gdrive\n"
          ]
        }
      ]
    },
    {
      "cell_type": "markdown",
      "source": [
        "## Obtención de datos de CETRAM\n",
        "\n",
        "En esta parte se hace scraping de los datos de la pagina donde se encuentran para posteriormente almacenarlo en Drive"
      ],
      "metadata": {
        "id": "TanUkm6Jsz8T"
      }
    },
    {
      "cell_type": "code",
      "source": [
        "cetram_url = \"http://datos.cdmx.gob.mx/dataset/ubicacion-de-centros-de-transferencia-modal-cetram\"\n",
        "cetram_links = get_links(cetram_url, 'a', 'resource-url-analytics')\n",
        "save_files(cetram_links, path)"
      ],
      "metadata": {
        "id": "3lbPMJMP26pZ"
      },
      "execution_count": null,
      "outputs": []
    },
    {
      "cell_type": "markdown",
      "source": [
        "## Obtención de datos de GTFS\n",
        "\n",
        "En esta parte se hace scraping de los datos de la pagina donde se encuentran para posteriormente almacenarlos en drive"
      ],
      "metadata": {
        "id": "5nkUtxe0AtR4"
      }
    },
    {
      "cell_type": "code",
      "source": [
        "gtfs_url = 'https://datos.cdmx.gob.mx/dataset/gtfs'\n",
        "gtfs_links = get_links(gtfs_url, 'a', 'resource-url-analytics')\n",
        "save_files(gtfs_links, path)"
      ],
      "metadata": {
        "id": "_zRFbbRRt3ig"
      },
      "execution_count": null,
      "outputs": []
    },
    {
      "cell_type": "markdown",
      "source": [
        "## Generación de dataframe para datos de CETRAM\n",
        "\n",
        "Se extraen los datos y genera el dataframe de estos datos"
      ],
      "metadata": {
        "id": "XFW-MayBDyQL"
      }
    },
    {
      "cell_type": "code",
      "source": [
        "shp = ZipFile(path + \"cetram_shp.zip\", 'r')\n",
        "shp.extractall('shp/')\n",
        "\n",
        "gdf_cetram = gpd.read_file('shp/cetram_shp/CETRAM.shp')"
      ],
      "metadata": {
        "id": "1Tk-EaLg9Fuy"
      },
      "execution_count": null,
      "outputs": []
    },
    {
      "cell_type": "markdown",
      "source": [
        "## Generación de dataframes para los datos de GTFS"
      ],
      "metadata": {
        "id": "iav9Esi9EjVj"
      }
    },
    {
      "cell_type": "code",
      "source": [
        "gtfs = ZipFile(path + \"gtfs.zip\", 'r')\n",
        "gtfs.extractall('gtfs/')\n",
        "\n",
        "df_agency = pd.read_csv('gtfs/agency.txt')\n",
        "df_stop_times = pd.read_csv('gtfs/stop_times.txt')\n",
        "df_routes = pd.read_csv('gtfs/routes.txt')\n",
        "df_stops = pd.read_csv('gtfs/stops.txt')\n",
        "df_trips = pd.read_csv('gtfs/trips.txt')\n",
        "\n",
        "df_calendar = pd.read_csv('gtfs/calendar.txt')\n",
        "df_shapes = pd.read_csv('gtfs/shapes.txt')\n",
        "df_frequencies = pd.read_csv('gtfs/frequencies.txt')\n",
        "# !ls 'gtfs/'"
      ],
      "metadata": {
        "id": "m4XjQiZsAfJj"
      },
      "execution_count": null,
      "outputs": []
    },
    {
      "cell_type": "code",
      "source": [
        "df_trips.head()"
      ],
      "metadata": {
        "colab": {
          "base_uri": "https://localhost:8080/",
          "height": 206
        },
        "id": "NzFaumJj0L3z",
        "outputId": "0e5e8faa-9f23-4ff7-b66f-794ca9bb1386"
      },
      "execution_count": null,
      "outputs": [
        {
          "output_type": "execute_result",
          "data": {
            "text/html": [
              "\n",
              "  <div id=\"df-d8ae2513-3c48-45fb-aea8-d98a72b4fca9\">\n",
              "    <div class=\"colab-df-container\">\n",
              "      <div>\n",
              "<style scoped>\n",
              "    .dataframe tbody tr th:only-of-type {\n",
              "        vertical-align: middle;\n",
              "    }\n",
              "\n",
              "    .dataframe tbody tr th {\n",
              "        vertical-align: top;\n",
              "    }\n",
              "\n",
              "    .dataframe thead th {\n",
              "        text-align: right;\n",
              "    }\n",
              "</style>\n",
              "<table border=\"1\" class=\"dataframe\">\n",
              "  <thead>\n",
              "    <tr style=\"text-align: right;\">\n",
              "      <th></th>\n",
              "      <th>trip_id</th>\n",
              "      <th>route_id</th>\n",
              "      <th>service_id</th>\n",
              "      <th>trip_headsign</th>\n",
              "      <th>trip_short_name</th>\n",
              "      <th>direction_id</th>\n",
              "      <th>shape_id</th>\n",
              "    </tr>\n",
              "  </thead>\n",
              "  <tbody>\n",
              "    <tr>\n",
              "      <th>0</th>\n",
              "      <td>010001C000_1</td>\n",
              "      <td>CMX01001C</td>\n",
              "      <td>0</td>\n",
              "      <td>Canal de Chalco - Barranca del Muerto</td>\n",
              "      <td>C.Base Periférico Canal de Chalco to Base Barr...</td>\n",
              "      <td>1</td>\n",
              "      <td>SH01001C000_1</td>\n",
              "    </tr>\n",
              "    <tr>\n",
              "      <th>1</th>\n",
              "      <td>010001C000_0</td>\n",
              "      <td>CMX01001C</td>\n",
              "      <td>0</td>\n",
              "      <td>Barranca del Muerto - Canal de Chalco</td>\n",
              "      <td>C.Base Barranca del Muerto to Base Periférico ...</td>\n",
              "      <td>0</td>\n",
              "      <td>SH01001C000_0</td>\n",
              "    </tr>\n",
              "    <tr>\n",
              "      <th>2</th>\n",
              "      <td>010001B000_1</td>\n",
              "      <td>CMX01001B</td>\n",
              "      <td>0</td>\n",
              "      <td>Canal de Chalco - Tacubaya</td>\n",
              "      <td>B.Base Periférico Canal de Chalco to Base Tacu...</td>\n",
              "      <td>1</td>\n",
              "      <td>SH01001B000_1</td>\n",
              "    </tr>\n",
              "    <tr>\n",
              "      <th>3</th>\n",
              "      <td>010001B000_0</td>\n",
              "      <td>CMX01001B</td>\n",
              "      <td>0</td>\n",
              "      <td>Tacubaya - Canal de Chalco</td>\n",
              "      <td>B.Base Tacubaya to Base Periférico Canal de Ch...</td>\n",
              "      <td>0</td>\n",
              "      <td>SH01001B000_0</td>\n",
              "    </tr>\n",
              "    <tr>\n",
              "      <th>4</th>\n",
              "      <td>010001A000_1</td>\n",
              "      <td>CMX01001A</td>\n",
              "      <td>0</td>\n",
              "      <td>Canal de Chalco - Cuatro Caminos</td>\n",
              "      <td>A.Base Canal de Chalco to Base Cuatro Caminos</td>\n",
              "      <td>1</td>\n",
              "      <td>SH01001A000_1</td>\n",
              "    </tr>\n",
              "  </tbody>\n",
              "</table>\n",
              "</div>\n",
              "      <button class=\"colab-df-convert\" onclick=\"convertToInteractive('df-d8ae2513-3c48-45fb-aea8-d98a72b4fca9')\"\n",
              "              title=\"Convert this dataframe to an interactive table.\"\n",
              "              style=\"display:none;\">\n",
              "        \n",
              "  <svg xmlns=\"http://www.w3.org/2000/svg\" height=\"24px\"viewBox=\"0 0 24 24\"\n",
              "       width=\"24px\">\n",
              "    <path d=\"M0 0h24v24H0V0z\" fill=\"none\"/>\n",
              "    <path d=\"M18.56 5.44l.94 2.06.94-2.06 2.06-.94-2.06-.94-.94-2.06-.94 2.06-2.06.94zm-11 1L8.5 8.5l.94-2.06 2.06-.94-2.06-.94L8.5 2.5l-.94 2.06-2.06.94zm10 10l.94 2.06.94-2.06 2.06-.94-2.06-.94-.94-2.06-.94 2.06-2.06.94z\"/><path d=\"M17.41 7.96l-1.37-1.37c-.4-.4-.92-.59-1.43-.59-.52 0-1.04.2-1.43.59L10.3 9.45l-7.72 7.72c-.78.78-.78 2.05 0 2.83L4 21.41c.39.39.9.59 1.41.59.51 0 1.02-.2 1.41-.59l7.78-7.78 2.81-2.81c.8-.78.8-2.07 0-2.86zM5.41 20L4 18.59l7.72-7.72 1.47 1.35L5.41 20z\"/>\n",
              "  </svg>\n",
              "      </button>\n",
              "      \n",
              "  <style>\n",
              "    .colab-df-container {\n",
              "      display:flex;\n",
              "      flex-wrap:wrap;\n",
              "      gap: 12px;\n",
              "    }\n",
              "\n",
              "    .colab-df-convert {\n",
              "      background-color: #E8F0FE;\n",
              "      border: none;\n",
              "      border-radius: 50%;\n",
              "      cursor: pointer;\n",
              "      display: none;\n",
              "      fill: #1967D2;\n",
              "      height: 32px;\n",
              "      padding: 0 0 0 0;\n",
              "      width: 32px;\n",
              "    }\n",
              "\n",
              "    .colab-df-convert:hover {\n",
              "      background-color: #E2EBFA;\n",
              "      box-shadow: 0px 1px 2px rgba(60, 64, 67, 0.3), 0px 1px 3px 1px rgba(60, 64, 67, 0.15);\n",
              "      fill: #174EA6;\n",
              "    }\n",
              "\n",
              "    [theme=dark] .colab-df-convert {\n",
              "      background-color: #3B4455;\n",
              "      fill: #D2E3FC;\n",
              "    }\n",
              "\n",
              "    [theme=dark] .colab-df-convert:hover {\n",
              "      background-color: #434B5C;\n",
              "      box-shadow: 0px 1px 3px 1px rgba(0, 0, 0, 0.15);\n",
              "      filter: drop-shadow(0px 1px 2px rgba(0, 0, 0, 0.3));\n",
              "      fill: #FFFFFF;\n",
              "    }\n",
              "  </style>\n",
              "\n",
              "      <script>\n",
              "        const buttonEl =\n",
              "          document.querySelector('#df-d8ae2513-3c48-45fb-aea8-d98a72b4fca9 button.colab-df-convert');\n",
              "        buttonEl.style.display =\n",
              "          google.colab.kernel.accessAllowed ? 'block' : 'none';\n",
              "\n",
              "        async function convertToInteractive(key) {\n",
              "          const element = document.querySelector('#df-d8ae2513-3c48-45fb-aea8-d98a72b4fca9');\n",
              "          const dataTable =\n",
              "            await google.colab.kernel.invokeFunction('convertToInteractive',\n",
              "                                                     [key], {});\n",
              "          if (!dataTable) return;\n",
              "\n",
              "          const docLinkHtml = 'Like what you see? Visit the ' +\n",
              "            '<a target=\"_blank\" href=https://colab.research.google.com/notebooks/data_table.ipynb>data table notebook</a>'\n",
              "            + ' to learn more about interactive tables.';\n",
              "          element.innerHTML = '';\n",
              "          dataTable['output_type'] = 'display_data';\n",
              "          await google.colab.output.renderOutput(dataTable, element);\n",
              "          const docLink = document.createElement('div');\n",
              "          docLink.innerHTML = docLinkHtml;\n",
              "          element.appendChild(docLink);\n",
              "        }\n",
              "      </script>\n",
              "    </div>\n",
              "  </div>\n",
              "  "
            ],
            "text/plain": [
              "        trip_id   route_id  ... direction_id       shape_id\n",
              "0  010001C000_1  CMX01001C  ...            1  SH01001C000_1\n",
              "1  010001C000_0  CMX01001C  ...            0  SH01001C000_0\n",
              "2  010001B000_1  CMX01001B  ...            1  SH01001B000_1\n",
              "3  010001B000_0  CMX01001B  ...            0  SH01001B000_0\n",
              "4  010001A000_1  CMX01001A  ...            1  SH01001A000_1\n",
              "\n",
              "[5 rows x 7 columns]"
            ]
          },
          "metadata": {},
          "execution_count": 93
        }
      ]
    },
    {
      "cell_type": "markdown",
      "source": [
        "agency > routes > trips > stop_times < stops \n",
        "\n",
        "shapes < trips > frequencies\n",
        "\n",
        "calendar es solo de metro"
      ],
      "metadata": {
        "id": "LfxHOA6nFsXk"
      }
    },
    {
      "cell_type": "code",
      "source": [
        "p = mp.Pool(mp.cpu_count())\n",
        "# Join stops\n",
        "df_stops_times = pd.merge(df_stops, df_stop_times, how='left', on='stop_id').fillna(value='')\n",
        "df_stops_complete = pd.merge(df_stops_times, df_trips, how='left', on='trip_id').fillna(value='')\n",
        "df_stops_routes = df_stops_complete[['route_id', 'stop_id','stop_name', 'stop_lat', 'stop_lon', 'wheelchair_boarding']].drop_duplicates()\n",
        "\n",
        "df_trips_shapes = pd.merge(df_trips, df_shapes, how='inner', on='shape_id')\n",
        "df_trips_schedule = pd.merge(df_trips_shapes, df_frequencies, how='inner', on='trip_id')\n",
        "df_trips_complete = df_trips_schedule[['trip_id', 'route_id', 'trip_headsign', 'trip_short_name', 'direction_id', 'shape_id', 'shape_dist_traveled', 'end_time', 'start_time', 'shape_pt_lat', 'shape_pt_lon']]\n",
        "df_trips_complete['lat'] = df_trips_schedule[['shape_pt_lat']].round(6).astype(str)\n",
        "df_trips_complete['lon'] = df_trips_schedule[['shape_pt_lon']].round(6).astype(str)\n",
        "df_trips_complete['point'] = df_trips_schedule[['shape_pt_lat', 'shape_pt_lon']].apply(lambda x: [x['shape_pt_lat'], x['shape_pt_lat']], axis=1)\n",
        "df_trips_complete['point'] = df_trips_complete[['lat', 'lon']].apply(lambda x: ','.join(x), axis=1)\n",
        "\n",
        "# Join with agency\n",
        "df_route_agency = pd.merge(df_routes, df_agency, how='left', on='agency_id')"
      ],
      "metadata": {
        "id": "PIfJBm8neOKU"
      },
      "execution_count": null,
      "outputs": []
    },
    {
      "cell_type": "code",
      "source": [
        "try:\n",
        "  app = get_app()\n",
        "except ValueError as e:\n",
        "  cred = credentials.Certificate(\"/gdrive/My Drive/credentials/public-transport-cdmx-firebase-adminsdk-bxcsj-0263214255.json\")\n",
        "  initialize_app(cred)\n",
        "\n",
        "\n",
        "# try:\n",
        "#   delete_app(app)\n",
        "# finally:\n",
        "#   pass\n",
        "\n",
        "db = firestore.client()\n",
        "doc_routes = db.collection('gtfs_agency_routes')\n",
        "doc_stops = db.collection('gtfs_routes_stops')\n",
        "doc_trips = db.collection('gtfs_routes_trips')"
      ],
      "metadata": {
        "id": "ei70ddORG42X"
      },
      "execution_count": null,
      "outputs": []
    },
    {
      "cell_type": "code",
      "source": [
        "delete_collection(doc_routes)"
      ],
      "metadata": {
        "id": "FvXSDzRKYpcv"
      },
      "execution_count": null,
      "outputs": []
    },
    {
      "cell_type": "code",
      "source": [
        "routes_json = (df_route_agency.groupby(['agency_id','agency_name','agency_lang'])\n",
        "        .apply(lambda x: pd.Series({ \n",
        "            \"routes\": x[['route_id','route_long_name', 'route_color']].to_dict('records'), \n",
        "        }))\n",
        "       .reset_index()\n",
        "       .to_json(orient='records')\n",
        "       )\n",
        "\n",
        "list(map(lambda x: doc_routes.add(x), json.loads(routes_json)))"
      ],
      "metadata": {
        "id": "nXuMNgvjCRuX"
      },
      "execution_count": null,
      "outputs": []
    },
    {
      "cell_type": "code",
      "source": [
        "delete_collection(doc_stops)"
      ],
      "metadata": {
        "id": "CBXBSbN-Yoqo"
      },
      "execution_count": null,
      "outputs": []
    },
    {
      "cell_type": "code",
      "source": [
        "stops_json = (df_stops_routes.groupby(['route_id'])\n",
        "       .apply(lambda x: pd.Series({ \n",
        "            \"stops\": x[['stop_id', 'stop_name', 'stop_lat', 'stop_lon', 'wheelchair_boarding']].to_dict('records') \n",
        "        }))\n",
        "       .reset_index()\n",
        "       .to_json(orient='records')\n",
        "       )\n",
        "\n",
        "# d = json.loads(stops_json)\n",
        "# for i in d:\n",
        "#   print(i)\n",
        "list(map(lambda x: doc_stops.add(x), json.loads(stops_json)))"
      ],
      "metadata": {
        "id": "CGRf7ZtzW0aB"
      },
      "execution_count": null,
      "outputs": []
    },
    {
      "cell_type": "code",
      "source": [
        "delete_collection(doc_trips)"
      ],
      "metadata": {
        "id": "73obpa-gx1fR"
      },
      "execution_count": null,
      "outputs": []
    },
    {
      "cell_type": "code",
      "source": [
        "trips_json = (df_trips_complete.groupby(['trip_id', 'route_id', 'trip_headsign', 'trip_short_name', 'direction_id', 'shape_id', 'end_time', 'start_time'])\n",
        "        .apply(lambda x: pd.Series({\n",
        "          \"line\": x['point'].tolist(),\n",
        "          \"distance\": x['shape_dist_traveled'].sum()\n",
        "        }))\n",
        "        .reset_index()\n",
        "        .groupby(['route_id'])\n",
        "        .apply(lambda x: pd.Series({\n",
        "            \"trips\": x[['trip_id', 'trip_headsign', 'trip_short_name', 'direction_id', 'shape_id', 'start_time', 'end_time', 'line', 'distance']].to_dict('records')\n",
        "        }))\n",
        "        .reset_index()\n",
        "        .to_json(orient='records')\n",
        ")\n",
        "\n",
        "d = json.loads(trips_json)\n",
        "for i in d:\n",
        "  print(i)\n",
        "\n",
        "# list(map(lambda x: doc_trips.add(x), json.loads(trips_json)))"
      ],
      "metadata": {
        "id": "RWIf8PkTYuUG"
      },
      "execution_count": null,
      "outputs": []
    }
  ]
}